{
 "cells": [
  {
   "cell_type": "code",
   "execution_count": 2,
   "metadata": {},
   "outputs": [],
   "source": [
    "import PIL\n",
    "import numpy as np\n",
    "from tensorflow.keras.models import load_model\n",
    "import tensorflow\n",
    "\n",
    "model2 = load_model('second_attempt.h5')\n",
    "\n",
    "model2.compile(loss='binary_crossentropy',\n",
    "              optimizer='rmsprop',\n",
    "              metrics=['accuracy',tensorflow.keras.metrics.FalsePositives()])"
   ]
  },
  {
   "cell_type": "code",
   "execution_count": null,
   "metadata": {},
   "outputs": [],
   "source": [
    "# as the COCO website requires me to upload my predictions to their website to get my \n",
    "# test scores and as they only provide them for certain competitions I will evaluate my own\n",
    "# test data set of 10 hotdog pictures and 10 non-hotdog pictures. That is certainly too small\n",
    "# but I am doing it by hand...\n"
   ]
  },
  {
   "cell_type": "code",
   "execution_count": 33,
   "metadata": {},
   "outputs": [
    {
     "name": "stdout",
     "output_type": "stream",
     "text": [
      "[[1.]]\n"
     ]
    }
   ],
   "source": [
    "pic = PIL.Image.open(r\"C:\\Users\\UX490\\Desktop\\Transfer\\Test\\no_hotdog\\no_hotdog10.jpg\")\n",
    "pic = pic.resize((640, 480))\n",
    "pic = np.array(pic)\n",
    "pic = np.swapaxes(pic,0,1)\n",
    "pic = pic.reshape((1,) + pic.shape)  \n",
    "pic = pic.astype(\"float64\")\n",
    "classes = model2.predict(pic)\n",
    "print(classes)\n",
    "\n",
    "# 0 = hotdog \n",
    "# 1 = no hotdog"
   ]
  },
  {
   "cell_type": "code",
   "execution_count": null,
   "metadata": {},
   "outputs": [],
   "source": [
    "# for this  test dataset I get 17 out of 20 correct predictions. There are 3 false\n",
    "# positives and 0 false negatives. "
   ]
  }
 ],
 "metadata": {
  "kernelspec": {
   "display_name": "Python 3",
   "language": "python",
   "name": "python3"
  },
  "language_info": {
   "codemirror_mode": {
    "name": "ipython",
    "version": 3
   },
   "file_extension": ".py",
   "mimetype": "text/x-python",
   "name": "python",
   "nbconvert_exporter": "python",
   "pygments_lexer": "ipython3",
   "version": "3.7.5"
  }
 },
 "nbformat": 4,
 "nbformat_minor": 2
}
